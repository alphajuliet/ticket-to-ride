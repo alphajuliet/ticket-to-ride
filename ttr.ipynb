{
 "cells": [
  {
   "cell_type": "markdown",
   "metadata": {},
   "source": [
    "# Ticket to Ride"
   ]
  },
  {
   "cell_type": "markdown",
   "metadata": {},
   "source": [
    "This notebook explores the map of the Ticket to Ride Europe edition through a network graph implementation. \n",
    "\n",
    "The route has been extracted and stored in a CSV file as rows containing data about each routes between a pair of cities, including the colour, length, whether it's a tunnel, and how many locomotives it needs to complete it.\n",
    "\n",
    "Using the network graph library in SageMath, we are looking for how to find the highest scoring journeys between a given pair of cities. This is more difficult than just finding the shortest journey, for which several well-known algorithms exist. The highest scoring journey is an optimisation between the highest overall score (using a non-linear scoring function) versus the fewest number of turns it takes to complete (i.e. the fewest number of hops/routes between cities)."
   ]
  },
  {
   "cell_type": "markdown",
   "metadata": {},
   "source": [
    "## Scoring"
   ]
  },
  {
   "cell_type": "markdown",
   "metadata": {},
   "source": [
    "Scoring table for route length"
   ]
  },
  {
   "cell_type": "code",
   "execution_count": 638,
   "metadata": {},
   "outputs": [],
   "source": [
    "def score(length):\n",
    "  x = [0, 1, 2, 4, 7, 0, 15, 0, 21]\n",
    "  return x[length]"
   ]
  },
  {
   "cell_type": "markdown",
   "metadata": {},
   "source": [
    "## Import TTR graph"
   ]
  },
  {
   "cell_type": "markdown",
   "metadata": {},
   "source": [
    "Import route data from CSV file and create edges. Use the score as the weight."
   ]
  },
  {
   "cell_type": "code",
   "execution_count": 639,
   "metadata": {},
   "outputs": [],
   "source": [
    "cities = set()\n",
    "routes = []\n",
    "edges = []\n",
    "\n",
    "import csv\n",
    "with open('ttr-europe.csv') as f:\n",
    "  f_csv = csv.reader(f) \n",
    "  headers = next(f_csv)\n",
    "  for row in f_csv:\n",
    "    city1, city2, colour, length, is_tunnel, locos = row\n",
    "    cities.add(city1)\n",
    "    cities.add(city2)\n",
    "    edges.append((city1, city2, score(int(length))))\n",
    "    routes.append((city1, city2, int(length), colour, is_tunnel, int(locos)))"
   ]
  },
  {
   "cell_type": "code",
   "execution_count": 640,
   "metadata": {},
   "outputs": [],
   "source": [
    "TTR = Graph(edges, multiedges = True, weighted =  True)"
   ]
  },
  {
   "cell_type": "markdown",
   "metadata": {},
   "source": [
    "## Create a sandpit"
   ]
  },
  {
   "cell_type": "markdown",
   "metadata": {},
   "source": [
    "Also create a smaller network subset for sandpit experimentation."
   ]
  },
  {
   "cell_type": "code",
   "execution_count": 641,
   "metadata": {},
   "outputs": [],
   "source": [
    "edge_subset = [('Paris', 'Frankfurt', 4),\n",
    "               ('Marseille', 'Pamplona', 7),\n",
    "               ('Pamplona', 'Paris', 7),\n",
    "               ('Marseille', 'Zürich', 2),\n",
    "               ('Zürich', \"München\", 2),\n",
    "               ('München', 'Frankfurt', 2),\n",
    "               ('Zürich', 'Paris', 4),\n",
    "               ('Marseille', 'Paris', 7)]\n"
   ]
  },
  {
   "cell_type": "code",
   "execution_count": 642,
   "metadata": {},
   "outputs": [],
   "source": [
    "sandpit = Graph(edge_subset, weighted = True)"
   ]
  },
  {
   "cell_type": "code",
   "execution_count": 643,
   "metadata": {},
   "outputs": [
    {
     "data": {
      "text/plain": [
       "[('Frankfurt', 'M\\xc3\\xbcnchen', 2),\n",
       " ('Frankfurt', 'Paris', 4),\n",
       " ('Marseille', 'Pamplona', 7),\n",
       " ('Marseille', 'Paris', 7),\n",
       " ('Marseille', 'Z\\xc3\\xbcrich', 2),\n",
       " ('M\\xc3\\xbcnchen', 'Z\\xc3\\xbcrich', 2),\n",
       " ('Pamplona', 'Paris', 7),\n",
       " ('Paris', 'Z\\xc3\\xbcrich', 4)]"
      ]
     },
     "execution_count": 643,
     "metadata": {},
     "output_type": "execute_result"
    }
   ],
   "source": [
    "sandpit.edges()"
   ]
  },
  {
   "cell_type": "markdown",
   "metadata": {},
   "source": [
    "## Basic graph analysis"
   ]
  },
  {
   "cell_type": "code",
   "execution_count": 644,
   "metadata": {},
   "outputs": [
    {
     "data": {
      "text/plain": [
       "(47, 101)"
      ]
     },
     "execution_count": 644,
     "metadata": {},
     "output_type": "execute_result"
    }
   ],
   "source": [
    "(TTR.order(), TTR.size())"
   ]
  },
  {
   "cell_type": "code",
   "execution_count": 645,
   "metadata": {},
   "outputs": [
    {
     "data": {
      "text/plain": [
       "5"
      ]
     },
     "execution_count": 645,
     "metadata": {},
     "output_type": "execute_result"
    }
   ],
   "source": [
    "TTR.radius()"
   ]
  },
  {
   "cell_type": "markdown",
   "metadata": {},
   "source": [
    "### Degree"
   ]
  },
  {
   "cell_type": "code",
   "execution_count": 646,
   "metadata": {},
   "outputs": [
    {
     "data": {
      "text/plain": [
       "{'Amsterdam': 4,\n",
       " 'Angora': 3,\n",
       " 'Athina': 4,\n",
       " 'Barcelona': 3,\n",
       " 'Berlin': 7,\n",
       " 'Brest': 3,\n",
       " 'Brindisi': 3,\n",
       " 'Bruxelles': 5,\n",
       " 'Bucuresti': 5,\n",
       " 'Budapest': 6,\n",
       " 'Cadiz': 2,\n",
       " 'Constantinople': 5,\n",
       " 'Danzig': 3,\n",
       " 'Dieppe': 5,\n",
       " 'Edinburgh': 2,\n",
       " 'Erzurum': 3,\n",
       " 'Essen': 5,\n",
       " 'Frankfurt': 8,\n",
       " 'Kharkov': 3,\n",
       " 'Kyiv': 6,\n",
       " 'K\\xc3\\xb8benhavn': 4,\n",
       " 'Lisboa': 2,\n",
       " 'London': 5,\n",
       " 'Madrid': 5,\n",
       " 'Marseille': 5,\n",
       " 'Moskva': 3,\n",
       " 'M\\xc3\\xbcnchen': 4,\n",
       " 'Palermo': 3,\n",
       " 'Pamplona': 7,\n",
       " 'Paris': 10,\n",
       " 'Petrograd': 4,\n",
       " 'Riga': 3,\n",
       " 'Roma': 4,\n",
       " 'Rostov': 3,\n",
       " 'Sarajevo': 4,\n",
       " 'Sevastapol': 5,\n",
       " 'Smolensk': 3,\n",
       " 'Smyrna': 4,\n",
       " 'Sochi': 3,\n",
       " 'Sofia': 4,\n",
       " 'Stockholm': 3,\n",
       " 'Venezia': 4,\n",
       " 'Warszawa': 6,\n",
       " 'Wien': 6,\n",
       " 'Wilno': 5,\n",
       " 'Zagreb': 4,\n",
       " 'Z\\xc3\\xbcrich': 4}"
      ]
     },
     "execution_count": 646,
     "metadata": {},
     "output_type": "execute_result"
    }
   ],
   "source": [
    "TTR.degree(vertices = cities, labels = True)"
   ]
  },
  {
   "cell_type": "markdown",
   "metadata": {},
   "source": [
    "There are 11 cases of multiple routes between two cities."
   ]
  },
  {
   "cell_type": "code",
   "execution_count": 647,
   "metadata": {},
   "outputs": [
    {
     "data": {
      "text/plain": [
       "[('Bruxelles', 'Paris', 2),\n",
       " ('Bruxelles', 'Paris', 2),\n",
       " ('Pamplona', 'Paris', 7),\n",
       " ('Pamplona', 'Paris', 7),\n",
       " ('Frankfurt', 'Paris', 4),\n",
       " ('Frankfurt', 'Paris', 4),\n",
       " ('Budapest', 'Wien', 1),\n",
       " ('Budapest', 'Wien', 1),\n",
       " ('Edinburgh', 'London', 7),\n",
       " ('Edinburgh', 'London', 7),\n",
       " ('Berlin', 'Warszawa', 7),\n",
       " ('Berlin', 'Warszawa', 7),\n",
       " ('Berlin', 'Frankfurt', 4),\n",
       " ('Berlin', 'Frankfurt', 4),\n",
       " ('Essen', 'K\\xc3\\xb8benhavn', 4),\n",
       " ('Essen', 'K\\xc3\\xb8benhavn', 4),\n",
       " ('Madrid', 'Pamplona', 4),\n",
       " ('Madrid', 'Pamplona', 4),\n",
       " ('Dieppe', 'London', 2),\n",
       " ('Dieppe', 'London', 2),\n",
       " ('K\\xc3\\xb8benhavn', 'Stockholm', 4),\n",
       " ('K\\xc3\\xb8benhavn', 'Stockholm', 4)]"
      ]
     },
     "execution_count": 647,
     "metadata": {},
     "output_type": "execute_result"
    }
   ],
   "source": [
    "TTR.multiple_edges()"
   ]
  },
  {
   "cell_type": "code",
   "execution_count": 648,
   "metadata": {},
   "outputs": [
    {
     "data": {
      "text/plain": [
       "4.297872340425532"
      ]
     },
     "execution_count": 648,
     "metadata": {},
     "output_type": "execute_result"
    }
   ],
   "source": [
    "float(TTR.average_degree())"
   ]
  },
  {
   "cell_type": "code",
   "execution_count": 649,
   "metadata": {},
   "outputs": [
    {
     "data": {
      "text/plain": [
       "3.955596669750231"
      ]
     },
     "execution_count": 649,
     "metadata": {},
     "output_type": "execute_result"
    }
   ],
   "source": [
    "float(TTR.average_distance())"
   ]
  },
  {
   "cell_type": "markdown",
   "metadata": {},
   "source": [
    "Minimal spanning tree"
   ]
  },
  {
   "cell_type": "code",
   "execution_count": 650,
   "metadata": {},
   "outputs": [
    {
     "data": {
      "text/plain": [
       "[('Amsterdam', 'Bruxelles', 1),\n",
       " ('Amsterdam', 'Frankfurt', 2),\n",
       " ('Amsterdam', 'London', 2),\n",
       " ('Angora', 'Constantinople', 2),\n",
       " ('Angora', 'Erzurum', 4),\n",
       " ('Athina', 'Smyrna', 2),\n",
       " ('Barcelona', 'Madrid', 2),\n",
       " ('Barcelona', 'Pamplona', 2),\n",
       " ('Berlin', 'Essen', 2),\n",
       " ('Berlin', 'Warszawa', 7)]"
      ]
     },
     "execution_count": 650,
     "metadata": {},
     "output_type": "execute_result"
    }
   ],
   "source": [
    "TTR.min_spanning_tree()[0:10] # etc."
   ]
  },
  {
   "cell_type": "markdown",
   "metadata": {},
   "source": [
    "## Route analysis"
   ]
  },
  {
   "cell_type": "code",
   "execution_count": 651,
   "metadata": {},
   "outputs": [
    {
     "data": {
      "text/plain": [
       "['Rostov', 'Edinburgh', 'Sochi', 'Erzurum', 'Cadiz', 'Lisboa', 'Moskva']"
      ]
     },
     "execution_count": 651,
     "metadata": {},
     "output_type": "execute_result"
    }
   ],
   "source": [
    "TTR.periphery()"
   ]
  },
  {
   "cell_type": "markdown",
   "metadata": {},
   "source": [
    "Use the sandpit graph for now."
   ]
  },
  {
   "cell_type": "code",
   "execution_count": 652,
   "metadata": {},
   "outputs": [],
   "source": [
    "source = 'Marseille'\n",
    "dest = 'Frankfurt'"
   ]
  },
  {
   "cell_type": "code",
   "execution_count": 653,
   "metadata": {},
   "outputs": [
    {
     "data": {
      "text/plain": [
       "['Marseille', 'Z\\xc3\\xbcrich', 'M\\xc3\\xbcnchen', 'Frankfurt']"
      ]
     },
     "execution_count": 653,
     "metadata": {},
     "output_type": "execute_result"
    }
   ],
   "source": [
    "sandpit.shortest_path(source, dest, algorithm='Dijkstra_NetworkX', by_weight=True)"
   ]
  },
  {
   "cell_type": "code",
   "execution_count": 654,
   "metadata": {},
   "outputs": [
    {
     "data": {
      "text/plain": [
       "6"
      ]
     },
     "execution_count": 654,
     "metadata": {},
     "output_type": "execute_result"
    }
   ],
   "source": [
    "sandpit.shortest_path_length(source, dest, by_weight=True)"
   ]
  },
  {
   "cell_type": "markdown",
   "metadata": {},
   "source": [
    "This is certainly the shortest weighted path, but that's not very useful in TTR. We need the highest-scoring path, within reasonable limits. The score $\\sigma$ is a function of: the number of routes $r$, and the total weighted distance $d$. An example score function that can be minimised is $\\sigma = 100*d/n$. We only want to look at paths that are equal to—or at most 1-2 units longer than—the minimal number of routes.\n",
    "\n",
    "In this case, for example, there are four routes from Marseille to Frankfurt with 3 or fewer hops. The given route has $\\sigma = 50$. The best (i.e lowest) scoring path is Marseille → Pamplona → Paris → Frankfurt, with $\\sigma = 100*3/(7+7+4) = 16.7$, closely followed by Marseille → Paris → Frankfurt with $\\sigma = 18.2$."
   ]
  },
  {
   "cell_type": "markdown",
   "metadata": {},
   "source": [
    "So, let's look at calculating the scores."
   ]
  },
  {
   "cell_type": "markdown",
   "metadata": {},
   "source": [
    "### Scoring routes between cities"
   ]
  },
  {
   "cell_type": "code",
   "execution_count": 655,
   "metadata": {},
   "outputs": [
    {
     "data": {
      "text/plain": [
       "[['Marseille', 'Paris', 'Frankfurt'],\n",
       " ['Marseille', 'Paris', 'Z\\xc3\\xbcrich', 'M\\xc3\\xbcnchen', 'Frankfurt'],\n",
       " ['Marseille', 'Pamplona', 'Paris', 'Frankfurt'],\n",
       " ['Marseille',\n",
       "  'Pamplona',\n",
       "  'Paris',\n",
       "  'Z\\xc3\\xbcrich',\n",
       "  'M\\xc3\\xbcnchen',\n",
       "  'Frankfurt'],\n",
       " ['Marseille', 'Z\\xc3\\xbcrich', 'Paris', 'Frankfurt'],\n",
       " ['Marseille', 'Z\\xc3\\xbcrich', 'M\\xc3\\xbcnchen', 'Frankfurt']]"
      ]
     },
     "execution_count": 655,
     "metadata": {},
     "output_type": "execute_result"
    }
   ],
   "source": [
    "paths = sandpit.all_paths(source, dest)\n",
    "paths"
   ]
  },
  {
   "cell_type": "markdown",
   "metadata": {},
   "source": [
    "Get the score of each path shorter than three hops. Scoring here is just $d/n$."
   ]
  },
  {
   "cell_type": "code",
   "execution_count": 656,
   "metadata": {},
   "outputs": [],
   "source": [
    "# Helper function to return a number or the head of a list\n",
    "def f(x):\n",
    "  if (isinstance(x, list)):\n",
    "    return x[0]\n",
    "  else:\n",
    "    return x"
   ]
  },
  {
   "cell_type": "code",
   "execution_count": 664,
   "metadata": {},
   "outputs": [],
   "source": [
    "# Score path p in graph g\n",
    "def score_path(g, p):\n",
    "  n = len(p) - 1\n",
    "  d = sum([f(g.edge_label(p[e], p[e+1])) for e in range(n)])\n",
    "  return d"
   ]
  },
  {
   "cell_type": "code",
   "execution_count": 665,
   "metadata": {},
   "outputs": [
    {
     "data": {
      "text/plain": [
       "[(['Marseille', 'Paris', 'Frankfurt'], 3, 11),\n",
       " (['Marseille', 'Pamplona', 'Paris', 'Frankfurt'], 4, 18),\n",
       " (['Marseille', 'Z\\xc3\\xbcrich', 'Paris', 'Frankfurt'], 4, 10),\n",
       " (['Marseille', 'Z\\xc3\\xbcrich', 'M\\xc3\\xbcnchen', 'Frankfurt'], 4, 6)]"
      ]
     },
     "execution_count": 665,
     "metadata": {},
     "output_type": "execute_result"
    }
   ],
   "source": [
    "[(x, len(x), score_path(sandpit, x)) for x in paths if len(x) <= 4]"
   ]
  },
  {
   "cell_type": "markdown",
   "metadata": {},
   "source": [
    "This is fine for the sandpit but the `all_paths()` call is infeasible for the full graph. We could, for example, do a breadth-first search and limit that search to the minimum distance $d$ or $d+1$. We could also look for some other heuristics, to limit the search space, particularly for widely-separated vertices."
   ]
  },
  {
   "cell_type": "markdown",
   "metadata": {},
   "source": [
    "The code below finds all vertices within $2d$ of the start and end vertices."
   ]
  },
  {
   "cell_type": "code",
   "execution_count": 659,
   "metadata": {},
   "outputs": [
    {
     "data": {
      "text/plain": [
       "{'Brest',\n",
       " 'Bruxelles',\n",
       " 'Dieppe',\n",
       " 'Frankfurt',\n",
       " 'Marseille',\n",
       " 'M\\xc3\\xbcnchen',\n",
       " 'Pamplona',\n",
       " 'Paris',\n",
       " 'Venezia',\n",
       " 'Z\\xc3\\xbcrich'}"
      ]
     },
     "execution_count": 659,
     "metadata": {},
     "output_type": "execute_result"
    }
   ],
   "source": [
    "d = 2\n",
    "p1 = [p for p in TTR.breadth_first_search(source, distance = d)]\n",
    "p2 = [p for p in TTR.breadth_first_search(dest, distance = d)]\n",
    "s = set(p1) & set(p2)\n",
    "s"
   ]
  },
  {
   "cell_type": "markdown",
   "metadata": {},
   "source": [
    "Create a subgraph of just those vertices, and then find all paths under a given distance."
   ]
  },
  {
   "cell_type": "code",
   "execution_count": 660,
   "metadata": {},
   "outputs": [],
   "source": [
    "g1 = TTR.subgraph(vertices = s)\n",
    "g1.remove_multiple_edges()"
   ]
  },
  {
   "cell_type": "code",
   "execution_count": 666,
   "metadata": {},
   "outputs": [
    {
     "data": {
      "text/plain": [
       "[(['Marseille', 'Z\\xc3\\xbcrich', 'Paris', 'Frankfurt'], 4, 10),\n",
       " (['Marseille', 'Z\\xc3\\xbcrich', 'M\\xc3\\xbcnchen', 'Frankfurt'], 4, 6),\n",
       " (['Marseille', 'Paris', 'Bruxelles', 'Frankfurt'], 4, 11),\n",
       " (['Marseille', 'Paris', 'Frankfurt'], 3, 11),\n",
       " (['Marseille', 'Pamplona', 'Paris', 'Frankfurt'], 4, 18)]"
      ]
     },
     "execution_count": 666,
     "metadata": {},
     "output_type": "execute_result"
    }
   ],
   "source": [
    "p1 = g1.all_paths(source, dest)\n",
    "[(x, len(x), score_path(g1,x)) for x in p1 if len(x) <= 4]"
   ]
  },
  {
   "cell_type": "markdown",
   "metadata": {},
   "source": [
    "Let's wrap this all in a function..."
   ]
  },
  {
   "cell_type": "code",
   "execution_count": 677,
   "metadata": {},
   "outputs": [],
   "source": [
    "def candidate_vertices(g, u, v):\n",
    "  d = floor(g.shortest_path_length(u, v)/2 + 1)\n",
    "  p1 = [c for c in TTR.breadth_first_search(u, distance = d)]\n",
    "  p2 = [c for c in TTR.breadth_first_search(v, distance = d)]\n",
    "  s = set(p1) & set(p2)\n",
    "  s.add(u)\n",
    "  s.add(v)\n",
    "  return s\n",
    "   \n",
    "# Score all paths between u and v in graph g up to distance min(u,v)+1\n",
    "def score_paths(g, u, v):\n",
    "  gs = g.subgraph(vertices = candidate_vertices(g, u, v))\n",
    "  gs.remove_multiple_edges()\n",
    "  paths = gs.all_paths(u, v)\n",
    "  return [{'path': x, 'routes': len(x), 'points': score_path(gs, x), 'score': float(score_path(gs, x)/len(x))} for x in paths]"
   ]
  },
  {
   "cell_type": "markdown",
   "metadata": {},
   "source": [
    "Top three paths"
   ]
  },
  {
   "cell_type": "code",
   "execution_count": 679,
   "metadata": {},
   "outputs": [
    {
     "data": {
      "text/plain": [
       "[{'path': ['Marseille', 'Pamplona', 'Paris', 'Frankfurt'],\n",
       "  'points': 18,\n",
       "  'routes': 4,\n",
       "  'score': 4.5},\n",
       " {'path': ['Marseille', 'Pamplona', 'Brest', 'Paris', 'Frankfurt'],\n",
       "  'points': 22,\n",
       "  'routes': 5,\n",
       "  'score': 4.4},\n",
       " {'path': ['Marseille',\n",
       "   'Paris',\n",
       "   'Pamplona',\n",
       "   'Brest',\n",
       "   'Dieppe',\n",
       "   'Bruxelles',\n",
       "   'Frankfurt'],\n",
       "  'points': 27,\n",
       "  'routes': 7,\n",
       "  'score': 3.857142857142857}]"
      ]
     },
     "execution_count": 679,
     "metadata": {},
     "output_type": "execute_result"
    }
   ],
   "source": [
    "x = score_paths(TTR, 'Marseille', 'Frankfurt')\n",
    "x.sort(key = lambda x: x['score'], reverse = True)\n",
    "x[0:3]"
   ]
  },
  {
   "cell_type": "code",
   "execution_count": null,
   "metadata": {},
   "outputs": [],
   "source": []
  }
 ],
 "metadata": {
  "kernelspec": {
   "display_name": "SageMath 8.1",
   "language": "",
   "name": "sagemath"
  },
  "language_info": {
   "codemirror_mode": {
    "name": "ipython",
    "version": 2
   },
   "file_extension": ".py",
   "mimetype": "text/x-python",
   "name": "python",
   "nbconvert_exporter": "python",
   "pygments_lexer": "ipython2",
   "version": "2.7.14"
  }
 },
 "nbformat": 4,
 "nbformat_minor": 2
}
